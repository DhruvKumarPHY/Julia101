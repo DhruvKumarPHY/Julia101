{
 "cells": [
  {
   "cell_type": "code",
   "execution_count": 4,
   "id": "b3f29c66-62f6-480e-8a2a-03d84ddfd1b9",
   "metadata": {},
   "outputs": [
    {
     "data": {
      "text/plain": [
       "main (generic function with 1 method)"
      ]
     },
     "execution_count": 4,
     "metadata": {},
     "output_type": "execute_result"
    }
   ],
   "source": [
    "# defining the Functions\n",
    "function main()\n",
    "    println(\"Good Morning\")\n",
    "    \n",
    "    function foo()\n",
    "        println(\"Good Evening\")\n",
    "    end\n",
    "    foo()\n",
    "end    "
   ]
  },
  {
   "cell_type": "code",
   "execution_count": 5,
   "id": "a27438d4-1a56-4e5f-b6f4-a3b8ace1e909",
   "metadata": {},
   "outputs": [
    {
     "name": "stdout",
     "output_type": "stream",
     "text": [
      "Good Morning\n",
      "Good Evening\n"
     ]
    }
   ],
   "source": [
    "main()"
   ]
  },
  {
   "cell_type": "code",
   "execution_count": 8,
   "id": "51c7e0f0-417a-43d0-8b59-a7dc789661c3",
   "metadata": {},
   "outputs": [],
   "source": [
    "# foo() - it gives error # as it is a local function inside main()"
   ]
  },
  {
   "cell_type": "code",
   "execution_count": 29,
   "id": "fd0c2b49-15fc-4516-a90d-4b95f2db41a7",
   "metadata": {},
   "outputs": [
    {
     "data": {
      "text/plain": [
       "Area (generic function with 1 method)"
      ]
     },
     "execution_count": 29,
     "metadata": {},
     "output_type": "execute_result"
    }
   ],
   "source": [
    "# let's write a function to get the area and circumference of a circle\n",
    "r = 9.3 # Typein the value of Radius of Circle\n",
    "function main()\n",
    "    println(\"Circumference of Circle : \",circumference(r::Float64)) # we can modify it accordingly.\n",
    "    println(\"Area of Circle : \",Area(r::Float64)) # in case we have multiple parametes we can simply use comma to define their type\n",
    "end\n",
    "\n",
    "function circumference(r)\n",
    "    c = 2 * pi * r\n",
    "    return c\n",
    "end    \n",
    "\n",
    "function Area(r)\n",
    "    a = pi * r^2\n",
    "    return a\n",
    "end    \n",
    "# Here all of the three functions are global."
   ]
  },
  {
   "cell_type": "code",
   "execution_count": 30,
   "id": "f515ab8e-ef5b-42a8-8ced-bf4d8a1b092f",
   "metadata": {},
   "outputs": [
    {
     "name": "stdout",
     "output_type": "stream",
     "text": [
      "Circumference of Circle : 58.433623356770156\n",
      "Area of Circle : 271.7163486089812\n"
     ]
    }
   ],
   "source": [
    "main()"
   ]
  },
  {
   "cell_type": "code",
   "execution_count": 36,
   "id": "b101e4c5-d023-4c6f-af37-06653ca933cc",
   "metadata": {},
   "outputs": [
    {
     "data": {
      "text/plain": [
       "u (generic function with 2 methods)"
      ]
     },
     "execution_count": 36,
     "metadata": {},
     "output_type": "execute_result"
    }
   ],
   "source": [
    "# Let's try our hands on potential energy\n",
    "function u(m::Real,h::Real;g) # here, g is conatant but we can change m and h.\n",
    "    u = m * g * h\n",
    "    return u \n",
    "end    "
   ]
  },
  {
   "cell_type": "code",
   "execution_count": 37,
   "id": "86959c4e-4f2d-400d-b0ba-0680e74cf754",
   "metadata": {},
   "outputs": [
    {
     "data": {
      "text/plain": [
       "981.0000000000001"
      ]
     },
     "execution_count": 37,
     "metadata": {},
     "output_type": "execute_result"
    }
   ],
   "source": [
    "u(10,10, g = 9.81) # Here, i have to call up g like this"
   ]
  },
  {
   "cell_type": "code",
   "execution_count": 44,
   "id": "be073920-8f97-4ddb-8ba2-e08a9156ae40",
   "metadata": {},
   "outputs": [
    {
     "data": {
      "text/plain": [
       "add (generic function with 1 method)"
      ]
     },
     "execution_count": 44,
     "metadata": {},
     "output_type": "execute_result"
    }
   ],
   "source": [
    "function add(k::Real,y...) # it can take n number of arguments.\n",
    "    k + sum(y)\n",
    "end    "
   ]
  },
  {
   "cell_type": "code",
   "execution_count": 45,
   "id": "97edd85d-8ad1-4926-83cc-128992fa8ea7",
   "metadata": {},
   "outputs": [
    {
     "data": {
      "text/plain": [
       "171"
      ]
     },
     "execution_count": 45,
     "metadata": {},
     "output_type": "execute_result"
    }
   ],
   "source": [
    "add(3,4,5,5,6,66,67,7,8) "
   ]
  },
  {
   "cell_type": "code",
   "execution_count": null,
   "id": "121a2c69-9dfb-48d5-989a-6f6ca754f732",
   "metadata": {},
   "outputs": [],
   "source": []
  }
 ],
 "metadata": {
  "kernelspec": {
   "display_name": "Julia 1.6.6",
   "language": "julia",
   "name": "julia-1.6"
  },
  "language_info": {
   "file_extension": ".jl",
   "mimetype": "application/julia",
   "name": "julia",
   "version": "1.6.6"
  }
 },
 "nbformat": 4,
 "nbformat_minor": 5
}
