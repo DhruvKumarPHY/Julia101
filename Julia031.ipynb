{
 "cells": [
  {
   "cell_type": "code",
   "execution_count": 5,
   "id": "2441458c-6917-4ced-9199-3c3c3066524f",
   "metadata": {},
   "outputs": [],
   "source": [
    "abstract type Shape{T} end"
   ]
  },
  {
   "cell_type": "code",
   "execution_count": 6,
   "id": "5c3a2161-981a-4073-a0c4-971841e9f799",
   "metadata": {},
   "outputs": [
    {
     "ename": "LoadError",
     "evalue": "invalid redefinition of constant Ellipse",
     "output_type": "error",
     "traceback": [
      "invalid redefinition of constant Ellipse",
      "",
      "Stacktrace:",
      " [1] top-level scope",
      "   @ In[6]:1",
      " [2] eval",
      "   @ ./boot.jl:360 [inlined]",
      " [3] include_string(mapexpr::typeof(REPL.softscope), mod::Module, code::String, filename::String)",
      "   @ Base ./loading.jl:1116"
     ]
    }
   ],
   "source": [
    "struct Ellipse{T}\n",
    "    a::T\n",
    "    b::T\n",
    "end"
   ]
  },
  {
   "cell_type": "code",
   "execution_count": null,
   "id": "8fe03b06-b66a-4e43-a4f6-f7dd83ab8526",
   "metadata": {},
   "outputs": [],
   "source": [
    "struct Rectangle{l,b} <: Shape{T1}\n",
    "    len::l\n",
    "    "
   ]
  }
 ],
 "metadata": {
  "kernelspec": {
   "display_name": "Julia 1.6.6",
   "language": "julia",
   "name": "julia-1.6"
  },
  "language_info": {
   "file_extension": ".jl",
   "mimetype": "application/julia",
   "name": "julia",
   "version": "1.6.6"
  }
 },
 "nbformat": 4,
 "nbformat_minor": 5
}
