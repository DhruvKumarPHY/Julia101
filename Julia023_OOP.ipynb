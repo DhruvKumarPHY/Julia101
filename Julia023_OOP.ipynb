{
 "cells": [
  {
   "cell_type": "code",
   "execution_count": 16,
   "id": "7982cdc2-19f3-42c7-9608-08e911c8166a",
   "metadata": {},
   "outputs": [],
   "source": [
    "struct Box\n",
    "    length::Real\n",
    "    width::Real\n",
    "    height::Real\n",
    "end    "
   ]
  },
  {
   "cell_type": "code",
   "execution_count": 17,
   "id": "71766ac4-a49c-4b2e-aaa0-b632340fa92a",
   "metadata": {},
   "outputs": [
    {
     "data": {
      "text/plain": [
       "main (generic function with 1 method)"
      ]
     },
     "execution_count": 17,
     "metadata": {},
     "output_type": "execute_result"
    }
   ],
   "source": [
    "function main()\n",
    "    b = Box(2,3,4)\n",
    "    \n",
    "    println(b.length)\n",
    "    println(b.width)\n",
    "    println(b.height)\n",
    "    \n",
    "    println(\"Volume : \", volume(b))\n",
    "    println(\"Surface Area : \" , area(b))\n",
    "end    "
   ]
  },
  {
   "cell_type": "code",
   "execution_count": 18,
   "id": "804b9265-248e-4c2b-913c-b3f08a77bd06",
   "metadata": {},
   "outputs": [
    {
     "name": "stdout",
     "output_type": "stream",
     "text": [
      "2\n",
      "3\n",
      "4\n",
      "Volume : 24\n",
      "Surface Area : 18\n"
     ]
    }
   ],
   "source": [
    "main() # cool"
   ]
  },
  {
   "cell_type": "code",
   "execution_count": 19,
   "id": "99432ace-c725-40d6-96bc-a7291def7b1b",
   "metadata": {},
   "outputs": [
    {
     "data": {
      "text/plain": [
       "volume (generic function with 1 method)"
      ]
     },
     "execution_count": 19,
     "metadata": {},
     "output_type": "execute_result"
    }
   ],
   "source": [
    "function volume(b::Box)\n",
    "    v = b.length * b.width * b.height\n",
    "    return v\n",
    "end    "
   ]
  },
  {
   "cell_type": "code",
   "execution_count": 20,
   "id": "3d11acef-ce36-446f-b825-60e72c89db1c",
   "metadata": {},
   "outputs": [
    {
     "data": {
      "text/plain": [
       "area (generic function with 1 method)"
      ]
     },
     "execution_count": 20,
     "metadata": {},
     "output_type": "execute_result"
    }
   ],
   "source": [
    "function area(b::Box)\n",
    "    a = 2 * ( b.length + b.width + b.height)\n",
    "    return a\n",
    "end    "
   ]
  },
  {
   "cell_type": "code",
   "execution_count": 21,
   "id": "ed7349d8-d324-453c-babe-c61508f4189c",
   "metadata": {},
   "outputs": [
    {
     "data": {
      "text/plain": [
       "Box_1 (generic function with 1 method)"
      ]
     },
     "execution_count": 21,
     "metadata": {},
     "output_type": "execute_result"
    }
   ],
   "source": [
    "function Box_1(l::Real,b::Real,h::Real)\n",
    "    if l < 0 || b < 0 || h < 0 \n",
    "        error(\"Can not have negative value for lengths\")\n",
    "    elseif l > b\n",
    "        error(\"Can not have shorter width than length\")\n",
    "    else \n",
    "        new(l,b,h)\n",
    "     end\n",
    "end    "
   ]
  },
  {
   "cell_type": "code",
   "execution_count": 22,
   "id": "3c59603b-a8a8-4c11-9956-b212600e01e9",
   "metadata": {},
   "outputs": [
    {
     "ename": "LoadError",
     "evalue": "MethodError: no method matching Box_1(; l=1, b=2, h=3)\n\u001b[0mClosest candidates are:\n\u001b[0m  Box_1(\u001b[91m::Real\u001b[39m, \u001b[91m::Real\u001b[39m, \u001b[91m::Real\u001b[39m) at In[21]:1\u001b[91m got unsupported keyword arguments \"l\", \"b\", \"h\"\u001b[39m",
     "output_type": "error",
     "traceback": [
      "MethodError: no method matching Box_1(; l=1, b=2, h=3)\n\u001b[0mClosest candidates are:\n\u001b[0m  Box_1(\u001b[91m::Real\u001b[39m, \u001b[91m::Real\u001b[39m, \u001b[91m::Real\u001b[39m) at In[21]:1\u001b[91m got unsupported keyword arguments \"l\", \"b\", \"h\"\u001b[39m",
      "",
      "Stacktrace:",
      " [1] top-level scope",
      "   @ In[22]:1",
      " [2] eval",
      "   @ ./boot.jl:360 [inlined]",
      " [3] include_string(mapexpr::typeof(REPL.softscope), mod::Module, code::String, filename::String)",
      "   @ Base ./loading.jl:1116"
     ]
    }
   ],
   "source": [
    "Box_1(l=1,b=2,h=3)"
   ]
  }
 ],
 "metadata": {
  "kernelspec": {
   "display_name": "Julia 1.6.6",
   "language": "julia",
   "name": "julia-1.6"
  },
  "language_info": {
   "file_extension": ".jl",
   "mimetype": "application/julia",
   "name": "julia",
   "version": "1.6.6"
  }
 },
 "nbformat": 4,
 "nbformat_minor": 5
}
