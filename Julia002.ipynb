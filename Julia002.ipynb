{
 "cells": [
  {
   "cell_type": "code",
   "execution_count": 1,
   "id": "703d623c-e0c1-4936-a804-d18957c3b966",
   "metadata": {},
   "outputs": [
    {
     "data": {
      "text/plain": [
       "Any[]"
      ]
     },
     "execution_count": 1,
     "metadata": {},
     "output_type": "execute_result"
    }
   ],
   "source": [
    "z = zeros(10)\n",
    "l = []"
   ]
  },
  {
   "cell_type": "code",
   "execution_count": 2,
   "id": "6948ce60-9730-4f7e-800f-18533046ba22",
   "metadata": {},
   "outputs": [
    {
     "data": {
      "text/plain": [
       "10-element Vector{Float64}:\n",
       " 0.0\n",
       " 0.0\n",
       " 0.0\n",
       " 0.0\n",
       " 0.0\n",
       " 0.0\n",
       " 0.0\n",
       " 0.0\n",
       " 0.0\n",
       " 0.0"
      ]
     },
     "execution_count": 2,
     "metadata": {},
     "output_type": "execute_result"
    }
   ],
   "source": [
    "z"
   ]
  },
  {
   "cell_type": "code",
   "execution_count": 8,
   "id": "3eeb1b2f-0de4-4b7b-8cd8-80393f30a18f",
   "metadata": {},
   "outputs": [
    {
     "data": {
      "text/plain": [
       "1.0:0.2753623188405797:20.0"
      ]
     },
     "execution_count": 8,
     "metadata": {},
     "output_type": "execute_result"
    }
   ],
   "source": [
    "r = range(1,20,length=70) # take 70 enteries between (1,20)"
   ]
  },
  {
   "cell_type": "code",
   "execution_count": 9,
   "id": "43288008-e601-4a8f-adb7-bbbe7f0030da",
   "metadata": {},
   "outputs": [
    {
     "data": {
      "text/plain": [
       "19.27536231884058"
      ]
     },
     "execution_count": 9,
     "metadata": {},
     "output_type": "execute_result"
    }
   ],
   "source": [
    "0.2753623188405797 * 70"
   ]
  },
  {
   "cell_type": "code",
   "execution_count": 12,
   "id": "27de26dd-5262-4b0d-93f5-a09ff5c4e56f",
   "metadata": {},
   "outputs": [
    {
     "data": {
      "text/plain": [
       "StepRangeLen{Float64, Base.TwicePrecision{Float64}, Base.TwicePrecision{Float64}}"
      ]
     },
     "execution_count": 12,
     "metadata": {},
     "output_type": "execute_result"
    }
   ],
   "source": [
    "typeof(r)"
   ]
  },
  {
   "cell_type": "code",
   "execution_count": 15,
   "id": "71f70719-4041-460f-a8ad-e02e8a496567",
   "metadata": {},
   "outputs": [
    {
     "data": {
      "text/plain": [
       "(70,)"
      ]
     },
     "execution_count": 15,
     "metadata": {},
     "output_type": "execute_result"
    }
   ],
   "source": [
    "size(r)"
   ]
  },
  {
   "cell_type": "code",
   "execution_count": 10,
   "id": "25e5df88-c7bc-4fa4-b43b-a08197e8722c",
   "metadata": {},
   "outputs": [
    {
     "data": {
      "text/plain": [
       "1:2:19"
      ]
     },
     "execution_count": 10,
     "metadata": {},
     "output_type": "execute_result"
    }
   ],
   "source": [
    "u = 1:2:20 # it is going from 1 to 19 with 10 elements"
   ]
  },
  {
   "cell_type": "code",
   "execution_count": 11,
   "id": "85ac02a4-fba0-46cd-9d11-928152406c5f",
   "metadata": {},
   "outputs": [
    {
     "data": {
      "text/plain": [
       "StepRange{Int64, Int64}"
      ]
     },
     "execution_count": 11,
     "metadata": {},
     "output_type": "execute_result"
    }
   ],
   "source": [
    "typeof(u)"
   ]
  },
  {
   "cell_type": "code",
   "execution_count": 14,
   "id": "8bf042ae-93b7-4c5b-8709-396fa6cbe4d2",
   "metadata": {},
   "outputs": [
    {
     "data": {
      "text/plain": [
       "(10,)"
      ]
     },
     "execution_count": 14,
     "metadata": {},
     "output_type": "execute_result"
    }
   ],
   "source": [
    "size(u)"
   ]
  },
  {
   "cell_type": "code",
   "execution_count": 16,
   "id": "39834a0c-2901-41b4-b178-7917c6e25342",
   "metadata": {},
   "outputs": [
    {
     "data": {
      "text/plain": [
       "1.0:2.0:19.0"
      ]
     },
     "execution_count": 16,
     "metadata": {},
     "output_type": "execute_result"
    }
   ],
   "source": [
    "c = range(1,19,length=10) # Equivalent of u"
   ]
  },
  {
   "cell_type": "code",
   "execution_count": 17,
   "id": "d97cf992-896e-454c-84f5-5dd875cdf57c",
   "metadata": {},
   "outputs": [
    {
     "data": {
      "text/plain": [
       "3×4 Matrix{Float64}:\n",
       " 0.0  0.0  0.0  0.0\n",
       " 0.0  0.0  0.0  0.0\n",
       " 0.0  0.0  0.0  0.0"
      ]
     },
     "execution_count": 17,
     "metadata": {},
     "output_type": "execute_result"
    }
   ],
   "source": [
    "z = zeros(3,4)"
   ]
  },
  {
   "cell_type": "code",
   "execution_count": 18,
   "id": "eebb7422-144b-47e6-b021-f772a02ab980",
   "metadata": {},
   "outputs": [
    {
     "data": {
      "text/plain": [
       "(3, 4)"
      ]
     },
     "execution_count": 18,
     "metadata": {},
     "output_type": "execute_result"
    }
   ],
   "source": [
    "size(z)"
   ]
  },
  {
   "cell_type": "code",
   "execution_count": 19,
   "id": "d80ddb5a-5a95-4608-a360-2b3e40481c45",
   "metadata": {},
   "outputs": [
    {
     "data": {
      "text/plain": [
       "20-element Vector{Int64}:\n",
       "  1\n",
       "  2\n",
       "  3\n",
       "  4\n",
       "  5\n",
       "  6\n",
       "  7\n",
       "  8\n",
       "  9\n",
       " 10\n",
       " 11\n",
       " 12\n",
       " 13\n",
       " 14\n",
       " 15\n",
       " 16\n",
       " 17\n",
       " 18\n",
       " 19\n",
       " 20"
      ]
     },
     "execution_count": 19,
     "metadata": {},
     "output_type": "execute_result"
    }
   ],
   "source": [
    "l1 = [x for x in 1:20] # x lies between 1,20"
   ]
  },
  {
   "cell_type": "code",
   "execution_count": 20,
   "id": "e090947e-1be7-4c3a-8d70-b392881c10ce",
   "metadata": {},
   "outputs": [
    {
     "data": {
      "text/plain": [
       "20-element Vector{Int64}:\n",
       " 1\n",
       " 0\n",
       " 1\n",
       " 0\n",
       " 1\n",
       " 0\n",
       " 1\n",
       " 0\n",
       " 1\n",
       " 0\n",
       " 1\n",
       " 0\n",
       " 1\n",
       " 0\n",
       " 1\n",
       " 0\n",
       " 1\n",
       " 0\n",
       " 1\n",
       " 0"
      ]
     },
     "execution_count": 20,
     "metadata": {},
     "output_type": "execute_result"
    }
   ],
   "source": [
    "l2 = [x%2 for x in 1:20] # It gives out the reminder for each term in array on division with 2"
   ]
  },
  {
   "cell_type": "code",
   "execution_count": 21,
   "id": "dd39c502-c4ce-4c0f-aa9a-a203817b59d0",
   "metadata": {},
   "outputs": [
    {
     "data": {
      "text/plain": [
       "3×4 Matrix{Float64}:\n",
       " 0.0  0.0  0.0  0.0\n",
       " 0.0  0.0  0.0  0.0\n",
       " 0.0  0.0  0.0  0.0"
      ]
     },
     "metadata": {},
     "output_type": "display_data"
    }
   ],
   "source": [
    "display(z) # Another way of calling it"
   ]
  },
  {
   "cell_type": "code",
   "execution_count": null,
   "id": "56f92508-3fe0-4fa8-baf0-e7fd36c75c15",
   "metadata": {},
   "outputs": [],
   "source": []
  }
 ],
 "metadata": {
  "kernelspec": {
   "display_name": "Julia 1.6.6",
   "language": "julia",
   "name": "julia-1.6"
  },
  "language_info": {
   "file_extension": ".jl",
   "mimetype": "application/julia",
   "name": "julia",
   "version": "1.6.6"
  }
 },
 "nbformat": 4,
 "nbformat_minor": 5
}
